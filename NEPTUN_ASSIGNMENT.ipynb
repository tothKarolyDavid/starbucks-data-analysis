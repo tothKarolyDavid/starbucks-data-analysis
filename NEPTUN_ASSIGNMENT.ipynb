{
 "cells": [
  {
   "cell_type": "markdown",
   "metadata": {},
   "source": [
    "# ASSIGNMENT"
   ]
  },
  {
   "cell_type": "markdown",
   "metadata": {},
   "source": [
    "Név: Minta Aladár.  \n",
    "Neptun: 1234AB. "
   ]
  },
  {
   "cell_type": "markdown",
   "metadata": {},
   "source": [
    "#### Összefoglaló"
   ]
  },
  {
   "cell_type": "markdown",
   "metadata": {},
   "source": [
    "Ez a notebook lesz a beadandótok.  \n",
    "Kérlek titeket dolgozzátok fel a kapott adatot (starbucks_data).  \n",
    "Nem kell semmi nagy dologra gondolni, szokásos lépések (adatfeltérképezés, tisztítás, transzformáció, vizualizáció).  \n",
    "Legyetek kreatívak, a cél az, hogy én aki nem ismeri az adatot, a notebook elolvasása után megértsek valamit a benne rejlő adatokból.  \n",
    "Az egyetlen hibás megoldás, ha nem csináltok semmit. Próbálkozzatok és legyetek bátrak.  \n",
    "Előnyös, ha felcommentelitek a notebookot, de nem szükséges."
   ]
  },
  {
   "cell_type": "markdown",
   "metadata": {},
   "source": [
    "#### Beküldés, határidő, szóbeli"
   ]
  },
  {
   "cell_type": "markdown",
   "metadata": {},
   "source": [
    "A notebookot majd a vizsgáig (TBD) kell elkészíteni és a szóbeli részben pár percben megmutatni, mire jutottatok vele.  \n",
    "Nem kell nagy dologra gondolni, milyen mezők voltak, milyen lépéseket végeztél, mi lett az eredmény.  \n",
    "Szeretnék látni a végén valamilyen vizualizációt, amit el és meg tudtok magyarázni.  \n",
    "A cél az, hogy tudjam, hogy amit csináltatok, azt ti csináltátok, értitek mi van a notebookban és meg tudjátok indokolni a döntéseiteket."
   ]
  },
  {
   "cell_type": "markdown",
   "metadata": {},
   "source": [
    "#### Ha bármi kérdés van, keressetek nyugodtan vele, hajrá!  "
   ]
  },
  {
   "cell_type": "markdown",
   "metadata": {},
   "source": [
    "## Python packages"
   ]
  },
  {
   "cell_type": "code",
   "execution_count": 1,
   "metadata": {},
   "outputs": [],
   "source": [
    "import pandas as pd\n",
    "# szükség lehet vizualizációs csomagra is"
   ]
  },
  {
   "cell_type": "markdown",
   "metadata": {},
   "source": [
    "## Adatbetöltés és feltérképezés"
   ]
  },
  {
   "cell_type": "code",
   "execution_count": 2,
   "metadata": {},
   "outputs": [
    {
     "data": {
      "text/html": [
       "<div>\n",
       "<style scoped>\n",
       "    .dataframe tbody tr th:only-of-type {\n",
       "        vertical-align: middle;\n",
       "    }\n",
       "\n",
       "    .dataframe tbody tr th {\n",
       "        vertical-align: top;\n",
       "    }\n",
       "\n",
       "    .dataframe thead th {\n",
       "        text-align: right;\n",
       "    }\n",
       "</style>\n",
       "<table border=\"1\" class=\"dataframe\">\n",
       "  <thead>\n",
       "    <tr style=\"text-align: right;\">\n",
       "      <th></th>\n",
       "      <th>ID</th>\n",
       "      <th>Beverage_category</th>\n",
       "      <th>Beverage</th>\n",
       "      <th>Beverage_prep</th>\n",
       "      <th>Calories</th>\n",
       "      <th>Total Fat (g)</th>\n",
       "      <th>Total Carbohydrates (g)</th>\n",
       "      <th>Sugars (g)</th>\n",
       "      <th>Protein (g)</th>\n",
       "      <th>Caffeine (mg)</th>\n",
       "    </tr>\n",
       "  </thead>\n",
       "  <tbody>\n",
       "    <tr>\n",
       "      <th>0</th>\n",
       "      <td>4</td>\n",
       "      <td>Classic Espresso Drinks</td>\n",
       "      <td>Caffè Latte</td>\n",
       "      <td>Short Nonfat Milk</td>\n",
       "      <td>70.0</td>\n",
       "      <td>0.1</td>\n",
       "      <td>75.0</td>\n",
       "      <td>9.0</td>\n",
       "      <td>6.0</td>\n",
       "      <td>75.0</td>\n",
       "    </tr>\n",
       "    <tr>\n",
       "      <th>1</th>\n",
       "      <td>5</td>\n",
       "      <td>Classic Espresso Drinks</td>\n",
       "      <td>Caffè Latte</td>\n",
       "      <td>2% Milk</td>\n",
       "      <td>100.0</td>\n",
       "      <td>3.5</td>\n",
       "      <td>85.0</td>\n",
       "      <td>9.0</td>\n",
       "      <td>6.0</td>\n",
       "      <td>75.0</td>\n",
       "    </tr>\n",
       "    <tr>\n",
       "      <th>2</th>\n",
       "      <td>6</td>\n",
       "      <td>Classic Espresso Drinks</td>\n",
       "      <td>Caffè Latte</td>\n",
       "      <td>Soymilk</td>\n",
       "      <td>70.0</td>\n",
       "      <td>2.5</td>\n",
       "      <td>65.0</td>\n",
       "      <td>4.0</td>\n",
       "      <td>5.0</td>\n",
       "      <td>75.0</td>\n",
       "    </tr>\n",
       "    <tr>\n",
       "      <th>3</th>\n",
       "      <td>7</td>\n",
       "      <td>Classic Espresso Drinks</td>\n",
       "      <td>Caffè Latte</td>\n",
       "      <td>Tall Nonfat Milk</td>\n",
       "      <td>100.0</td>\n",
       "      <td>0.2</td>\n",
       "      <td>120.0</td>\n",
       "      <td>14.0</td>\n",
       "      <td>10.0</td>\n",
       "      <td>75.0</td>\n",
       "    </tr>\n",
       "    <tr>\n",
       "      <th>4</th>\n",
       "      <td>8</td>\n",
       "      <td>Classic Espresso Drinks</td>\n",
       "      <td>Caffè Latte</td>\n",
       "      <td>2% Milk</td>\n",
       "      <td>150.0</td>\n",
       "      <td>6.0</td>\n",
       "      <td>135.0</td>\n",
       "      <td>14.0</td>\n",
       "      <td>10.0</td>\n",
       "      <td>75.0</td>\n",
       "    </tr>\n",
       "  </tbody>\n",
       "</table>\n",
       "</div>"
      ],
      "text/plain": [
       "   ID        Beverage_category     Beverage      Beverage_prep  Calories  \\\n",
       "0   4  Classic Espresso Drinks  Caffè Latte  Short Nonfat Milk      70.0   \n",
       "1   5  Classic Espresso Drinks  Caffè Latte            2% Milk     100.0   \n",
       "2   6  Classic Espresso Drinks  Caffè Latte            Soymilk      70.0   \n",
       "3   7  Classic Espresso Drinks  Caffè Latte   Tall Nonfat Milk     100.0   \n",
       "4   8  Classic Espresso Drinks  Caffè Latte            2% Milk     150.0   \n",
       "\n",
       "   Total Fat (g)  Total Carbohydrates (g)  Sugars (g)  Protein (g)  \\\n",
       "0            0.1                     75.0         9.0          6.0   \n",
       "1            3.5                     85.0         9.0          6.0   \n",
       "2            2.5                     65.0         4.0          5.0   \n",
       "3            0.2                    120.0        14.0         10.0   \n",
       "4            6.0                    135.0        14.0         10.0   \n",
       "\n",
       "   Caffeine (mg)  \n",
       "0           75.0  \n",
       "1           75.0  \n",
       "2           75.0  \n",
       "3           75.0  \n",
       "4           75.0  "
      ]
     },
     "execution_count": 2,
     "metadata": {},
     "output_type": "execute_result"
    }
   ],
   "source": [
    "df = pd.read_csv(\"starbucks_data.csv\",sep=';')\n",
    "df.head(5)\n",
    "# shape, describe, head, columns..."
   ]
  },
  {
   "cell_type": "markdown",
   "metadata": {},
   "source": [
    "## Hibás értékek kezelése"
   ]
  },
  {
   "cell_type": "code",
   "execution_count": 3,
   "metadata": {},
   "outputs": [],
   "source": [
    "# szükség lehet NaN értékek szűrésére, outlierek szűrésére, boxplot..."
   ]
  },
  {
   "cell_type": "markdown",
   "metadata": {},
   "source": [
    "## Új oszlopok, aggregációk létrehozása"
   ]
  },
  {
   "cell_type": "code",
   "execution_count": 4,
   "metadata": {},
   "outputs": [],
   "source": [
    "# szükség lehet új oszlopok létrehozására, %-os arány, cal/cof, akármi. Legyetek kreatívak, az egyetlen rossz megoldás, ha nincs megoldás"
   ]
  },
  {
   "cell_type": "markdown",
   "metadata": {},
   "source": [
    "## Adatvizualizáció"
   ]
  },
  {
   "cell_type": "code",
   "execution_count": 5,
   "metadata": {},
   "outputs": [],
   "source": [
    "# valamilyen diagram amin jól tudjátok ábrázolni az adatokat.\n",
    "# Box, Bar chart kategóriákra, Típusok összehaonlítása..."
   ]
  }
 ],
 "metadata": {
  "kernelspec": {
   "display_name": "Python 3",
   "language": "python",
   "name": "python3"
  },
  "language_info": {
   "codemirror_mode": {
    "name": "ipython",
    "version": 3
   },
   "file_extension": ".py",
   "mimetype": "text/x-python",
   "name": "python",
   "nbconvert_exporter": "python",
   "pygments_lexer": "ipython3",
   "version": "3.11.1"
  },
  "orig_nbformat": 4
 },
 "nbformat": 4,
 "nbformat_minor": 2
}
